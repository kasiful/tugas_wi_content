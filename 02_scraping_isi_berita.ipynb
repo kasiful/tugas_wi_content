{
 "cells": [
  {
   "cell_type": "code",
   "execution_count": 1,
   "id": "068d0b3d-b853-44a8-aa7c-89057520870d",
   "metadata": {},
   "outputs": [],
   "source": [
    "import sqlite3\n",
    "\n",
    "# Membuat koneksi ke database SQLite\n",
    "conn = sqlite3.connect('news_data.db')\n",
    "c = conn.cursor()\n",
    "\n",
    "# Membuat tabel untuk menyimpan teks yang diekstrak\n",
    "c.execute('''\n",
    "CREATE TABLE IF NOT EXISTS extracted_text (\n",
    "    url TEXT,\n",
    "    content TEXT,\n",
    "    FOREIGN KEY (url) REFERENCES href (id)\n",
    ")\n",
    "''')\n",
    "conn.commit()"
   ]
  },
  {
   "cell_type": "code",
   "execution_count": 2,
   "id": "4adbe2c6-e997-40b9-9fdc-0407c2e947b6",
   "metadata": {},
   "outputs": [],
   "source": [
    "import requests\n",
    "from lxml import html"
   ]
  },
  {
   "cell_type": "code",
   "execution_count": 3,
   "id": "06f087a4-29ac-4b23-bbe7-1cdd20dcb77e",
   "metadata": {},
   "outputs": [],
   "source": [
    "c.execute('SELECT url FROM news WHERE url not in (select url from extracted_text)')\n",
    "urls = c.fetchall()"
   ]
  },
  {
   "cell_type": "code",
   "execution_count": 4,
   "id": "c3a6701c-c738-4929-ba04-e10ad47be013",
   "metadata": {},
   "outputs": [],
   "source": [
    "from tqdm import tqdm\n",
    "\n",
    "import warnings\n",
    "\n",
    "warnings.simplefilter('ignore')"
   ]
  },
  {
   "cell_type": "code",
   "execution_count": 5,
   "id": "7c8f593a-ea81-48ac-a393-fa59af9bee9b",
   "metadata": {},
   "outputs": [],
   "source": [
    "start = 0"
   ]
  },
  {
   "cell_type": "code",
   "execution_count": 6,
   "id": "d3993488-23f0-4fbb-a684-5fcfd61ed89a",
   "metadata": {
    "scrolled": true
   },
   "outputs": [
    {
     "name": "stderr",
     "output_type": "stream",
     "text": [
      "100%|████████████████████████████████████████████████████████████████████████████████| 420/420 [15:01<00:00,  2.15s/it]\n"
     ]
    }
   ],
   "source": [
    "for i in tqdm(range(len(urls))):\n",
    "    if i < start:\n",
    "        continue\n",
    "      \n",
    "    try:\n",
    "        url = urls[i]\n",
    "    \n",
    "        current_url = url[0]\n",
    "        all_paragraphs = []  # List untuk menyimpan semua paragraf\n",
    "        response = requests.get(f'{current_url}', verify=False)\n",
    "        tree = html.fromstring(response.content)\n",
    "        total_page_link = tree.xpath('//a[contains(text(),\"Next\")]/../preceding-sibling::li[1]//a/text()')\n",
    "        if total_page_link != []:\n",
    "            total_page_link = int(\"\".join(total_page_link))\n",
    "        else:\n",
    "            total_page_link = 1\n",
    "    \n",
    "        for page in range(1, total_page_link+1):\n",
    "            response = requests.get(f'{current_url}?page={page}', verify=False)\n",
    "            if response.status_code == 200:\n",
    "                tree = html.fromstring(response.content)\n",
    "                paragraphs = tree.xpath(\"//div[@class='page-content']//div[@itemprop='articleBody']//p//text()\")\n",
    "                all_paragraphs.extend(paragraphs)  # Menambahkan paragraf dari halaman saat ini\n",
    "            else:\n",
    "                print(\"Failed to retrieve the page:\", current_url)\n",
    "                break\n",
    "    \n",
    "        # Menggabungkan semua paragraf menjadi satu teks panjang\n",
    "        full_text = ' '.join(all_paragraphs)\n",
    "        \n",
    "        c.execute('INSERT INTO extracted_text (url, content) VALUES (?, ?)', (url[0], full_text))\n",
    "        conn.commit()\n",
    "\n",
    "    except Exception as e:\n",
    "        print(current_url)\n",
    "        print(str(e))\n",
    "        continue\n",
    "            "
   ]
  },
  {
   "cell_type": "code",
   "execution_count": null,
   "id": "292496f0-253c-46a3-bf80-a0f88bad3e2c",
   "metadata": {},
   "outputs": [],
   "source": []
  }
 ],
 "metadata": {
  "kernelspec": {
   "display_name": "Python 3 (ipykernel)",
   "language": "python",
   "name": "python3"
  },
  "language_info": {
   "codemirror_mode": {
    "name": "ipython",
    "version": 3
   },
   "file_extension": ".py",
   "mimetype": "text/x-python",
   "name": "python",
   "nbconvert_exporter": "python",
   "pygments_lexer": "ipython3",
   "version": "3.10.14"
  }
 },
 "nbformat": 4,
 "nbformat_minor": 5
}
